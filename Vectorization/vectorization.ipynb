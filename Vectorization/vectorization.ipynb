{
 "cells": [
  {
   "cell_type": "markdown",
   "metadata": {},
   "source": [
    "# Vectorization"
   ]
  },
  {
   "cell_type": "code",
   "execution_count": 1,
   "metadata": {},
   "outputs": [
    {
     "name": "stderr",
     "output_type": "stream",
     "text": [
      "[nltk_data] Downloading package stopwords to C:\\Users\\CHITRESH.LAPTOP-\n",
      "[nltk_data]     DAD6S1E5\\AppData\\Roaming\\nltk_data...\n",
      "[nltk_data]   Package stopwords is already up-to-date!\n"
     ]
    },
    {
     "data": {
      "text/plain": [
       "True"
      ]
     },
     "execution_count": 1,
     "metadata": {},
     "output_type": "execute_result"
    }
   ],
   "source": [
    "import nltk\n",
    "nltk.download('stopwords')"
   ]
  },
  {
   "cell_type": "code",
   "execution_count": 3,
   "metadata": {},
   "outputs": [],
   "source": [
    "# Creating data\n",
    "corpus = [\n",
    "    'Food is Bad',\n",
    "    'Bad Sesrvice Bad Food',\n",
    "    'Food is Good',\n",
    "    'Good Service With Good Food.',\n",
    "    'Service is Bad but Food is Good.'\n",
    "]"
   ]
  },
  {
   "cell_type": "code",
   "execution_count": 12,
   "metadata": {},
   "outputs": [
    {
     "name": "stdout",
     "output_type": "stream",
     "text": [
      "['food bad']\n",
      "['food bad', 'bad service bad food']\n",
      "['food bad', 'bad service bad food', 'food good']\n",
      "['food bad', 'bad service bad food', 'food good', 'good service good food.']\n",
      "['food bad', 'bad service bad food', 'food good', 'good service good food.', 'service bad food good.']\n"
     ]
    }
   ],
   "source": [
    "# To clean the data we will remove lowercase words and stopwords\n",
    "# Also join is used to join strings\n",
    "\n",
    "from nltk.corpus import stopwords\n",
    "english_stopwords = set(stopwords.words('english'))\n",
    "\n",
    "corpus = [\n",
    "    'Food is Bad',\n",
    "    'Bad Service Bad Food',\n",
    "    'Food is Good',\n",
    "    'Good Service With Good Food.',\n",
    "    'Service is Bad but Food is Good.'\n",
    "]\n",
    "\n",
    "cleaned_corpus = []\n",
    "\n",
    "for sent in corpus:\n",
    "    sent = sent.lower()\n",
    "    cleaned_corpus.append(' '.join([word for word in sent.split() if word not in english_stopwords]))\n",
    "    print(cleaned_corpus)"
   ]
  },
  {
   "cell_type": "code",
   "execution_count": 13,
   "metadata": {},
   "outputs": [
    {
     "name": "stdout",
     "output_type": "stream",
     "text": [
      "   bad  food  good  service\n",
      "0    1     1     0        0\n",
      "1    2     1     0        1\n",
      "2    0     1     1        0\n",
      "3    0     1     2        1\n",
      "4    1     1     1        1\n"
     ]
    }
   ],
   "source": [
    "from sklearn.feature_extraction.text import CountVectorizer\n",
    "import pandas as pd\n",
    "vectorizer = CountVectorizer()\n",
    "X = vectorizer.fit_transform(cleaned_corpus)\n",
    "doc_term_matrix = pd.DataFrame(X.toarray(),columns= vectorizer.get_feature_names_out())\n",
    "print(doc_term_matrix)"
   ]
  },
  {
   "cell_type": "markdown",
   "metadata": {},
   "source": [
    "# TF-IDF\n",
    "\n",
    "TF-IDF or Term Frequency–Inverse Document Frequency, is a statistical measure that tells how relevant a word is to a document. It combines two metrics — term frequency and inverse document frequency — to produce a relevance score.\n",
    "\n",
    "The Term Frequency is the frequency of a word in a document. It is calculated by dividing the occurrence of a word inside a document by the total number of words in that document.\n",
    "\n",
    "The Inverse Document Frequency is a measure of how much information a word provides. Words like “the,” for example, occur very frequently but provide little context or value to a sentence. It is calculated by taking the inverse log of document frequency, that is the proportion of documents that contain a particular word."
   ]
  },
  {
   "cell_type": "code",
   "execution_count": 19,
   "metadata": {},
   "outputs": [
    {
     "name": "stdout",
     "output_type": "stream",
     "text": [
      "        bad      food      good   service\n",
      "0  0.814802  0.579739  0.000000  0.000000\n",
      "1  0.852319  0.303216  0.000000  0.426160\n",
      "2  0.000000  0.579739  0.814802  0.000000\n",
      "3  0.000000  0.303216  0.852319  0.426160\n",
      "4  0.534046  0.379978  0.534046  0.534046\n"
     ]
    }
   ],
   "source": [
    "from sklearn.feature_extraction.text import TfidfVectorizer\n",
    "\n",
    "new_corpus = ['food bad',  \n",
    "          'bad service bad food',  \n",
    "          'food good',  \n",
    "          'good service good food.',  \n",
    "          'service bad food good.'\n",
    "         ]\n",
    "tf_idf = TfidfVectorizer()\n",
    "vectors = tf_idf.fit_transform(new_corpus)\n",
    "doc_term_matrix_tf_idf = pd.DataFrame(vectors.toarray(), columns=tf_idf.get_feature_names_out())\n",
    "print(doc_term_matrix_tf_idf)"
   ]
  },
  {
   "cell_type": "code",
   "execution_count": null,
   "metadata": {},
   "outputs": [],
   "source": []
  }
 ],
 "metadata": {
  "kernelspec": {
   "display_name": "Python 3",
   "language": "python",
   "name": "python3"
  },
  "language_info": {
   "codemirror_mode": {
    "name": "ipython",
    "version": 3
   },
   "file_extension": ".py",
   "mimetype": "text/x-python",
   "name": "python",
   "nbconvert_exporter": "python",
   "pygments_lexer": "ipython3",
   "version": "3.12.1"
  }
 },
 "nbformat": 4,
 "nbformat_minor": 4
}
